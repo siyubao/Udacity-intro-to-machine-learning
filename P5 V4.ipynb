{
 "cells": [
  {
   "cell_type": "code",
   "execution_count": 1,
   "metadata": {
    "collapsed": false
   },
   "outputs": [],
   "source": [
    "%matplotlib inline\n",
    "\n",
    "import numpy as np\n",
    "import pandas as pd\n",
    "import sys\n",
    "import pickle\n",
    "import string\n",
    "\n",
    "import matplotlib.pyplot as plt\n",
    "from sklearn import neighbors\n",
    "from sklearn import linear_model\n",
    "from sklearn.svm import SVC\n",
    "from sklearn.naive_bayes import GaussianNB\n",
    "from sklearn.tree import DecisionTreeClassifier\n",
    "from sklearn.ensemble import AdaBoostClassifier, RandomForestClassifier\n",
    "from sklearn.cross_validation import KFold, train_test_split, StratifiedShuffleSplit\n",
    "from sklearn.metrics import accuracy_score, precision_score, recall_score\n",
    "from sklearn.pipeline import Pipeline\n",
    "from sklearn.feature_selection import SelectKBest, chi2\n",
    "from sklearn.grid_search import GridSearchCV\n",
    "from sklearn.decomposition import PCA\n",
    "from sklearn.preprocessing import MinMaxScaler\n",
    "from sklearn.linear_model import LogisticRegression\n",
    "from sklearn.neighbors import KNeighborsClassifier\n",
    "sys.path.append(\"../tools/\")\n",
    "\n",
    "from feature_format import featureFormat, targetFeatureSplit\n",
    "from tester import dump_classifier_and_data, test_classifier"
   ]
  },
  {
   "cell_type": "markdown",
   "metadata": {},
   "source": [
    "### Task 1: Select what features you'll use."
   ]
  },
  {
   "cell_type": "code",
   "execution_count": 2,
   "metadata": {
    "collapsed": false
   },
   "outputs": [],
   "source": [
    "### features_list is a list of strings, each of which is a feature name.\n",
    "features_list = ['poi','salary', 'deferral_payments', 'total_payments', 'loan_advances',\\\n",
    "    'bonus', 'restricted_stock_deferred', 'deferred_income', 'total_stock_value',\\\n",
    "    'expenses', 'exercised_stock_options', 'other', 'long_term_incentive',\\\n",
    "    'restricted_stock', 'director_fees', 'to_messages', 'from_poi_to_this_person',\\\n",
    "    'from_messages', 'from_this_person_to_poi', 'shared_receipt_with_poi']\n",
    "\n",
    "### Load the dictionary containing the dataset, create DataFrame from dictionary\n",
    "with open(\"final_project_dataset.pkl\", \"r\") as data_file:\n",
    "    data_dict = pickle.load(data_file)"
   ]
  },
  {
   "cell_type": "markdown",
   "metadata": {},
   "source": [
    "### Task 2: Remove outliers"
   ]
  },
  {
   "cell_type": "code",
   "execution_count": 3,
   "metadata": {
    "collapsed": false,
    "scrolled": true
   },
   "outputs": [
    {
     "data": {
      "text/plain": [
       "{'bonus': 'NaN',\n",
       " 'deferral_payments': 'NaN',\n",
       " 'deferred_income': 'NaN',\n",
       " 'director_fees': 'NaN',\n",
       " 'email_address': 'NaN',\n",
       " 'exercised_stock_options': 'NaN',\n",
       " 'expenses': 'NaN',\n",
       " 'from_messages': 'NaN',\n",
       " 'from_poi_to_this_person': 'NaN',\n",
       " 'from_this_person_to_poi': 'NaN',\n",
       " 'loan_advances': 'NaN',\n",
       " 'long_term_incentive': 'NaN',\n",
       " 'other': 362096,\n",
       " 'poi': False,\n",
       " 'restricted_stock': 'NaN',\n",
       " 'restricted_stock_deferred': 'NaN',\n",
       " 'salary': 'NaN',\n",
       " 'shared_receipt_with_poi': 'NaN',\n",
       " 'to_messages': 'NaN',\n",
       " 'total_payments': 362096,\n",
       " 'total_stock_value': 'NaN'}"
      ]
     },
     "execution_count": 3,
     "metadata": {},
     "output_type": "execute_result"
    }
   ],
   "source": [
    "data_dict.pop('TOTAL', 0)\n",
    "data_dict.pop('THE TRAVEL AGENCY IN THE PARK', 0) # from reading the pdf"
   ]
  },
  {
   "cell_type": "markdown",
   "metadata": {},
   "source": [
    "### Task 3: Create new feature(s)"
   ]
  },
  {
   "cell_type": "code",
   "execution_count": 4,
   "metadata": {
    "collapsed": false
   },
   "outputs": [
    {
     "name": "stdout",
     "output_type": "stream",
     "text": [
      "New feature ratio_to_poi is added to data_dict.\n",
      "New feature ratio_from_poi is added to data_dict.\n",
      "New feature ratio_bonus_to_salary is added to data_dict.\n"
     ]
    }
   ],
   "source": [
    "def compute_ratio(numerator, denominator, ratio_list):\n",
    "    for name in data_dict:\n",
    "        if data_dict[name][denominator] == 'NaN' or data_dict[name][denominator] == 0 \\\n",
    "        or data_dict[name][numerator] == 'NaN':\n",
    "            data_dict[name][ratio_list] = 0\n",
    "        if data_dict[name][denominator] != 'NaN' and data_dict[name][denominator] != 0 \\\n",
    "        and data_dict[name][numerator] != 'NaN':\n",
    "            ratio = data_dict[name][numerator] / float(data_dict[name][denominator])\n",
    "            data_dict[name][ratio_list] = ratio\n",
    "        else:\n",
    "            data_dict[name][ratio_list] = 'NaN'\n",
    "    print \"New feature\", ratio_list, \"is added to data_dict.\"\n",
    "\n",
    "compute_ratio('from_this_person_to_poi', 'to_messages', 'ratio_to_poi')\n",
    "compute_ratio('from_poi_to_this_person', 'from_messages', 'ratio_from_poi') \n",
    "compute_ratio('bonus', 'salary', 'ratio_bonus_to_salary')\n",
    "features_list.extend(('ratio_to_poi', 'ratio_from_poi', 'ratio_bonus_to_salary'))"
   ]
  },
  {
   "cell_type": "code",
   "execution_count": 5,
   "metadata": {
    "collapsed": false
   },
   "outputs": [],
   "source": [
    "### Store to my_dataset for easy export below.\n",
    "my_dataset = data_dict\n",
    "\n",
    "### Extract features and labels from dataset for local testing\n",
    "data = featureFormat(my_dataset, features_list, remove_NaN=True, remove_all_zeroes=True, sort_keys=True)\n",
    "labels, features = targetFeatureSplit(data)"
   ]
  },
  {
   "cell_type": "markdown",
   "metadata": {},
   "source": [
    "### Task 4: Try a varity of classifiers"
   ]
  },
  {
   "cell_type": "code",
   "execution_count": 14,
   "metadata": {
    "collapsed": false
   },
   "outputs": [
    {
     "data": {
      "text/html": [
       "<div>\n",
       "<table border=\"1\" class=\"dataframe\">\n",
       "  <thead>\n",
       "    <tr style=\"text-align: right;\">\n",
       "      <th></th>\n",
       "      <th>features</th>\n",
       "      <th>scores</th>\n",
       "    </tr>\n",
       "  </thead>\n",
       "  <tbody>\n",
       "    <tr>\n",
       "      <th>9</th>\n",
       "      <td>exercised_stock_options</td>\n",
       "      <td>24.815080</td>\n",
       "    </tr>\n",
       "    <tr>\n",
       "      <th>7</th>\n",
       "      <td>total_stock_value</td>\n",
       "      <td>24.182899</td>\n",
       "    </tr>\n",
       "    <tr>\n",
       "      <th>4</th>\n",
       "      <td>bonus</td>\n",
       "      <td>20.792252</td>\n",
       "    </tr>\n",
       "    <tr>\n",
       "      <th>0</th>\n",
       "      <td>salary</td>\n",
       "      <td>18.289684</td>\n",
       "    </tr>\n",
       "    <tr>\n",
       "      <th>6</th>\n",
       "      <td>deferred_income</td>\n",
       "      <td>11.458477</td>\n",
       "    </tr>\n",
       "    <tr>\n",
       "      <th>21</th>\n",
       "      <td>ratio_bonus_to_salary</td>\n",
       "      <td>10.783585</td>\n",
       "    </tr>\n",
       "    <tr>\n",
       "      <th>11</th>\n",
       "      <td>long_term_incentive</td>\n",
       "      <td>9.922186</td>\n",
       "    </tr>\n",
       "    <tr>\n",
       "      <th>12</th>\n",
       "      <td>restricted_stock</td>\n",
       "      <td>9.212811</td>\n",
       "    </tr>\n",
       "    <tr>\n",
       "      <th>2</th>\n",
       "      <td>total_payments</td>\n",
       "      <td>8.772778</td>\n",
       "    </tr>\n",
       "    <tr>\n",
       "      <th>18</th>\n",
       "      <td>shared_receipt_with_poi</td>\n",
       "      <td>8.589421</td>\n",
       "    </tr>\n",
       "    <tr>\n",
       "      <th>3</th>\n",
       "      <td>loan_advances</td>\n",
       "      <td>7.184056</td>\n",
       "    </tr>\n",
       "    <tr>\n",
       "      <th>8</th>\n",
       "      <td>expenses</td>\n",
       "      <td>6.094173</td>\n",
       "    </tr>\n",
       "    <tr>\n",
       "      <th>15</th>\n",
       "      <td>from_poi_to_this_person</td>\n",
       "      <td>5.243450</td>\n",
       "    </tr>\n",
       "    <tr>\n",
       "      <th>20</th>\n",
       "      <td>ratio_from_poi</td>\n",
       "      <td>5.123946</td>\n",
       "    </tr>\n",
       "    <tr>\n",
       "      <th>10</th>\n",
       "      <td>other</td>\n",
       "      <td>4.187478</td>\n",
       "    </tr>\n",
       "    <tr>\n",
       "      <th>19</th>\n",
       "      <td>ratio_to_poi</td>\n",
       "      <td>4.094653</td>\n",
       "    </tr>\n",
       "    <tr>\n",
       "      <th>17</th>\n",
       "      <td>from_this_person_to_poi</td>\n",
       "      <td>2.382612</td>\n",
       "    </tr>\n",
       "    <tr>\n",
       "      <th>13</th>\n",
       "      <td>director_fees</td>\n",
       "      <td>2.126328</td>\n",
       "    </tr>\n",
       "    <tr>\n",
       "      <th>14</th>\n",
       "      <td>to_messages</td>\n",
       "      <td>1.646341</td>\n",
       "    </tr>\n",
       "    <tr>\n",
       "      <th>1</th>\n",
       "      <td>deferral_payments</td>\n",
       "      <td>0.224611</td>\n",
       "    </tr>\n",
       "    <tr>\n",
       "      <th>16</th>\n",
       "      <td>from_messages</td>\n",
       "      <td>0.169701</td>\n",
       "    </tr>\n",
       "    <tr>\n",
       "      <th>5</th>\n",
       "      <td>restricted_stock_deferred</td>\n",
       "      <td>0.065500</td>\n",
       "    </tr>\n",
       "  </tbody>\n",
       "</table>\n",
       "</div>"
      ],
      "text/plain": [
       "                     features     scores\n",
       "9     exercised_stock_options  24.815080\n",
       "7           total_stock_value  24.182899\n",
       "4                       bonus  20.792252\n",
       "0                      salary  18.289684\n",
       "6             deferred_income  11.458477\n",
       "21      ratio_bonus_to_salary  10.783585\n",
       "11        long_term_incentive   9.922186\n",
       "12           restricted_stock   9.212811\n",
       "2              total_payments   8.772778\n",
       "18    shared_receipt_with_poi   8.589421\n",
       "3               loan_advances   7.184056\n",
       "8                    expenses   6.094173\n",
       "15    from_poi_to_this_person   5.243450\n",
       "20             ratio_from_poi   5.123946\n",
       "10                      other   4.187478\n",
       "19               ratio_to_poi   4.094653\n",
       "17    from_this_person_to_poi   2.382612\n",
       "13              director_fees   2.126328\n",
       "14                to_messages   1.646341\n",
       "1           deferral_payments   0.224611\n",
       "16              from_messages   0.169701\n",
       "5   restricted_stock_deferred   0.065500"
      ]
     },
     "execution_count": 14,
     "metadata": {},
     "output_type": "execute_result"
    }
   ],
   "source": [
    "### Feature selection by SelectKBest\n",
    "skb = SelectKBest()\n",
    "fit = skb.fit(features, labels)\n",
    "temp = features_list[1:]\n",
    "d = {'features': temp, 'scores': fit.scores_}\n",
    "scores_df = pd.DataFrame(d).sort_values(by='scores', ascending=False)\n",
    "scores_df"
   ]
  },
  {
   "cell_type": "code",
   "execution_count": 15,
   "metadata": {
    "collapsed": false
   },
   "outputs": [
    {
     "data": {
      "text/plain": [
       "<matplotlib.axes._subplots.AxesSubplot at 0x103ec9450>"
      ]
     },
     "execution_count": 15,
     "metadata": {},
     "output_type": "execute_result"
    },
    {
     "data": {
      "image/png": "[encoded data removed]",
      "text/plain": [
       "<matplotlib.figure.Figure at 0x114da0650>"
      ]
     },
     "metadata": {},
     "output_type": "display_data"
    }
   ],
   "source": [
    "scores_df.plot.bar(x='features')"
   ]
  },
  {
   "cell_type": "code",
   "execution_count": 43,
   "metadata": {
    "collapsed": true
   },
   "outputs": [],
   "source": [
    "features_selected = ['poi', 'exercised_stock_options', 'total_stock_value', 'bonus', 'salary']\n",
    "data = featureFormat(my_dataset, features_selected, remove_NaN=True, remove_all_zeroes=True, sort_keys=True, remove_any_zeroes=True)\n",
    "labels, features = targetFeatureSplit(data)\n",
    "sss = StratifiedShuffleSplit(labels, n_iter=100, train_size=0.75, random_state=46)"
   ]
  },
  {
   "cell_type": "code",
   "execution_count": 41,
   "metadata": {
    "collapsed": false
   },
   "outputs": [
    {
     "name": "stdout",
     "output_type": "stream",
     "text": [
      "Best Estimator:  DecisionTreeClassifier(class_weight='balanced', criterion='gini',\n",
      "            max_depth=None, max_features=None, max_leaf_nodes=None,\n",
      "            min_samples_leaf=1, min_samples_split=25,\n",
      "            min_weight_fraction_leaf=0.0, presort=False, random_state=None,\n",
      "            splitter='random')\n",
      "Best Params:  {'min_samples_split': 25, 'splitter': 'random', 'class_weight': 'balanced'}\n",
      "DecisionTreeClassifier(class_weight='balanced', criterion='gini',\n",
      "            max_depth=None, max_features=None, max_leaf_nodes=None,\n",
      "            min_samples_leaf=1, min_samples_split=25,\n",
      "            min_weight_fraction_leaf=0.0, presort=False, random_state=None,\n",
      "            splitter='random')\n",
      "\tAccuracy: 0.68786\tPrecision: 0.24411\tRecall: 0.59500\tF1: 0.34619\tF2: 0.46214\n",
      "\tTotal predictions: 36000\tTrue positives: 2975\tFalse positives: 9212\tFalse negatives: 2025\tTrue negatives: 21788\n",
      "\n"
     ]
    }
   ],
   "source": [
    "### Try decision tree\n",
    "tree = DecisionTreeClassifier()\n",
    "params = {'min_samples_split': range(5, 41, 5),\n",
    "         'class_weight': ['balanced', {True: 10, False: 1}, {True: 8, False: 1}, {True: 6, False: 1}],\n",
    "         'splitter': ['random', 'best']\n",
    "         }\n",
    "gs = GridSearchCV(tree, param_grid=params, scoring='precision', cv=sss)\n",
    "gs.fit(features, labels)\n",
    "tree_estimator = gs.best_estimator_\n",
    "print \"Best Estimator: \", tree_estimator\n",
    "print \"Best Params: \", gs.best_params_\n",
    "test_classifier(tree_estimator, my_dataset, features_list, folds = 1000)"
   ]
  },
  {
   "cell_type": "code",
   "execution_count": 46,
   "metadata": {
    "collapsed": false
   },
   "outputs": [
    {
     "name": "stdout",
     "output_type": "stream",
     "text": [
      "Best Estimator:  Pipeline(steps=[('scaler', MinMaxScaler(copy=True, feature_range=(0, 1))), ('svc', SVC(C=8, cache_size=200, class_weight={False: 1, True: 12}, coef0=0.0,\n",
      "  decision_function_shape=None, degree=1, gamma='auto', kernel='linear',\n",
      "  max_iter=-1, probability=False, random_state=None, shrinking=True,\n",
      "  tol=0.001, verbose=False))])\n",
      "Best Params:  {'svc__class_weight': {False: 1, True: 12}, 'svc__degree': 1, 'svc__kernel': 'linear', 'svc__C': 8}\n",
      "Pipeline(steps=[('scaler', MinMaxScaler(copy=True, feature_range=(0, 1))), ('svc', SVC(C=8, cache_size=200, class_weight={False: 1, True: 12}, coef0=0.0,\n",
      "  decision_function_shape=None, degree=1, gamma='auto', kernel='linear',\n",
      "  max_iter=-1, probability=False, random_state=None, shrinking=True,\n",
      "  tol=0.001, verbose=False))])\n",
      "\tAccuracy: 0.49442\tPrecision: 0.21922\tRecall: 0.91220\tF1: 0.35348\tF2: 0.55886\n",
      "\tTotal predictions: 33000\tTrue positives: 4561\tFalse positives: 16245\tFalse negatives:  439\tTrue negatives: 11755\n",
      "\n"
     ]
    }
   ],
   "source": [
    "### Try SVM\n",
    "svc = SVC()\n",
    "scaler = MinMaxScaler()\n",
    "pipe = Pipeline([('scaler', scaler), ('svc', svc)])\n",
    "params = {'svc__kernel':['rbf', 'linear'], \n",
    "          'svc__degree': range(1, 3),\n",
    "          'svc__C': range(8, 25, 2),\n",
    "          'svc__class_weight': [{True: 14, False: 1}, {True: 12, False: 1}, {True: 10, False: 1}]\n",
    "          }\n",
    "gs = GridSearchCV(pipe, param_grid=params, scoring='precision', cv=sss)\n",
    "gs.fit(features, labels)\n",
    "svc_estimator = gs.best_estimator_\n",
    "print \"Best Estimator: \", svc_estimator\n",
    "print \"Best Params: \", gs.best_params_\n",
    "test_classifier(svc_estimator, my_dataset, features_selected, folds = 1000)"
   ]
  },
  {
   "cell_type": "markdown",
   "metadata": {},
   "source": [
    "### Task 5: Tune your classifier to achieve better than .3 precision and recall "
   ]
  },
  {
   "cell_type": "code",
   "execution_count": 45,
   "metadata": {
    "collapsed": false,
    "scrolled": true
   },
   "outputs": [
    {
     "name": "stdout",
     "output_type": "stream",
     "text": [
      "Best Estimator:  Pipeline(steps=[('scaler', MinMaxScaler(copy=True, feature_range=(0, 1))), ('knn', KNeighborsClassifier(algorithm='auto', leaf_size=30, metric='minkowski',\n",
      "           metric_params=None, n_jobs=1, n_neighbors=1, p=2,\n",
      "           weights='uniform'))])\n",
      "Best Params:  {'knn__algorithm': 'auto', 'knn__weights': 'uniform', 'knn__n_neighbors': 1}\n",
      "Pipeline(steps=[('scaler', MinMaxScaler(copy=True, feature_range=(0, 1))), ('knn', KNeighborsClassifier(algorithm='auto', leaf_size=30, metric='minkowski',\n",
      "           metric_params=None, n_jobs=1, n_neighbors=1, p=2,\n",
      "           weights='uniform'))])\n",
      "\tAccuracy: 0.79842\tPrecision: 0.32727\tRecall: 0.31300\tF1: 0.31998\tF2: 0.31575\n",
      "\tTotal predictions: 33000\tTrue positives: 1565\tFalse positives: 3217\tFalse negatives: 3435\tTrue negatives: 24783\n",
      "\n"
     ]
    }
   ],
   "source": [
    "scaler = MinMaxScaler()\n",
    "knn = KNeighborsClassifier()\n",
    "pipeline = Pipeline([('scaler', scaler), ('knn', knn)])\n",
    "params = {'knn__n_neighbors': range(1, 10),\n",
    "          'knn__weights': ['uniform', 'distance'],\n",
    "          'knn__algorithm': ['auto', 'ball_tree', 'kd_tree', 'brute']\n",
    "          }\n",
    "gs = GridSearchCV(pipeline, param_grid=params, scoring='f1', cv=sss)\n",
    "gs.fit(features, labels)\n",
    "knn_estimator = gs.best_estimator_\n",
    "print \"Best Estimator: \", knn_estimator\n",
    "print \"Best Params: \", gs.best_params_\n",
    "test_classifier(knn_estimator, my_dataset, features_selected, folds = 1000)"
   ]
  },
  {
   "cell_type": "code",
   "execution_count": 47,
   "metadata": {
    "collapsed": false
   },
   "outputs": [
    {
     "name": "stdout",
     "output_type": "stream",
     "text": [
      "KNeighborsClassifier(algorithm='auto', leaf_size=30, metric='minkowski',\n",
      "           metric_params=None, n_jobs=1, n_neighbors=1, p=2,\n",
      "           weights='uniform')\n",
      "\tAccuracy: 0.83982\tPrecision: 0.46266\tRecall: 0.35440\tF1: 0.40136\tF2: 0.37180\n",
      "\tTotal predictions: 33000\tTrue positives: 1772\tFalse positives: 2058\tFalse negatives: 3228\tTrue negatives: 25942\n",
      "\n"
     ]
    }
   ],
   "source": [
    "### Re-testing the best knn classifier\n",
    "clf = KNeighborsClassifier(algorithm='auto', leaf_size=30, metric='minkowski', metric_params=None, n_jobs=1, n_neighbors=1, p=2, weights='uniform')\n",
    "test_classifier(clf, my_dataset, features_selected, folds = 1000)"
   ]
  },
  {
   "cell_type": "markdown",
   "metadata": {},
   "source": [
    "### Task 5.5: Test one of the newly implemented features"
   ]
  },
  {
   "cell_type": "code",
   "execution_count": 50,
   "metadata": {
    "collapsed": false
   },
   "outputs": [
    {
     "name": "stdout",
     "output_type": "stream",
     "text": [
      "KNeighborsClassifier(algorithm='auto', leaf_size=30, metric='minkowski',\n",
      "           metric_params=None, n_jobs=1, n_neighbors=1, p=2,\n",
      "           weights='uniform')\n",
      "\tAccuracy: 0.83982\tPrecision: 0.46266\tRecall: 0.35440\tF1: 0.40136\tF2: 0.37180\n",
      "\tTotal predictions: 33000\tTrue positives: 1772\tFalse positives: 2058\tFalse negatives: 3228\tTrue negatives: 25942\n",
      "\n"
     ]
    }
   ],
   "source": [
    "### Adding the new feature ratio_bonus_to_salary to the data\n",
    "features_test = ['poi', 'exercised_stock_options', 'total_stock_value', 'bonus', 'salary', 'ratio_bonus_to_salary']\n",
    "\n",
    "clf_test = KNeighborsClassifier(algorithm='auto', leaf_size=30, metric='minkowski', metric_params=None, n_jobs=1, n_neighbors=1, p=2, weights='uniform')\n",
    "test_classifier(clf_test, my_dataset, features_test, folds = 1000)"
   ]
  },
  {
   "cell_type": "markdown",
   "metadata": {},
   "source": [
    "### Task 6: Dump your classifier, dataset, and features_list so anyone can check your results. "
   ]
  },
  {
   "cell_type": "code",
   "execution_count": 51,
   "metadata": {
    "collapsed": true
   },
   "outputs": [],
   "source": [
    "dump_classifier_and_data(clf, my_dataset, features_selected)"
   ]
  },
  {
   "cell_type": "markdown",
   "metadata": {},
   "source": [
    " "
   ]
  }
 ],
 "metadata": {
  "anaconda-cloud": {},
  "kernelspec": {
   "display_name": "Python [Root]",
   "language": "python",
   "name": "Python [Root]"
  },
  "language_info": {
   "codemirror_mode": {
    "name": "ipython",
    "version": 2
   },
   "file_extension": ".py",
   "mimetype": "text/x-python",
   "name": "python",
   "nbconvert_exporter": "python",
   "pygments_lexer": "ipython2",
   "version": "2.7.11"
  }
 },
 "nbformat": 4,
 "nbformat_minor": 0
}
